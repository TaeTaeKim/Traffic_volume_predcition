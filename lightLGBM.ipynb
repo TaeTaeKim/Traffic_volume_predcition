{
 "cells": [
  {
   "cell_type": "code",
   "execution_count": 17,
   "id": "7af2c25c-0d0e-4d0f-bb19-8876732ed45e",
   "metadata": {},
   "outputs": [],
   "source": [
    "import warnings\n",
    "warnings.filterwarnings('ignore')\n",
    "import pandas as pd\n",
    "import numpy as np\n",
    "import datetime as dt\n",
    "pd.set_option('display.max_columns', 500)\n",
    "pd.set_option('display.max_rows', 500)\n",
    "import matplotlib.pyplot as plt\n",
    "import seaborn as sns\n",
    "import lightgbm as lgb\n",
    "from sklearn import preprocessing, metrics\n",
    "from sklearn.model_selection import StratifiedKFold, KFold, RepeatedKFold, GroupKFold, GridSearchCV, train_test_split, TimeSeriesSplit\n",
    "import gc\n",
    "import os"
   ]
  },
  {
   "cell_type": "code",
   "execution_count": 11,
   "id": "8bfa87ad-e60c-418e-bd52-81e60998c20d",
   "metadata": {},
   "outputs": [
    {
     "data": {
      "text/plain": [
       "'/USER/Taeyun/Traffic_TimeSeires'"
      ]
     },
     "execution_count": 11,
     "metadata": {},
     "output_type": "execute_result"
    }
   ],
   "source": [
    "os.getcwd()"
   ]
  },
  {
   "cell_type": "markdown",
   "id": "f6a6198e-0c1d-4830-85dd-986aec64635e",
   "metadata": {},
   "source": [
    "# Date Load"
   ]
  },
  {
   "cell_type": "code",
   "execution_count": 16,
   "id": "4f08d9f9-e755-4d51-a87c-ef62c5d1b596",
   "metadata": {},
   "outputs": [
    {
     "name": "stdout",
     "output_type": "stream",
     "text": [
      "EDA_train.csv ||Shape : (3312, 38)\n",
      "EDA_valid.csv ||Shape : (336, 38)\n",
      "EDA_test.csv ||Shape : (336, 38)\n"
     ]
    }
   ],
   "source": [
    "def load_data_csv(datapath):\n",
    "    data = pd.read_csv(datapath)\n",
    "    \n",
    "    print(f\"{datapath.split('/')[-1]} ||Shape :\", data.shape)\n",
    "    return data\n",
    "\n",
    "\n",
    "train_df = load_data_csv(os.path.join(os.getcwd(),'EDA_train.csv'))\n",
    "valid_df = load_data_csv(os.path.join(os.getcwd(),'EDA_valid.csv'))\n",
    "test_df = load_data_csv(os.path.join(os.getcwd(),'EDA_test.csv'))\n"
   ]
  },
  {
   "cell_type": "markdown",
   "id": "de10f874-3c6a-4a7c-b9b9-8d7d31250e3e",
   "metadata": {},
   "source": [
    "# 도로별 Lightmodel생성"
   ]
  },
  {
   "cell_type": "code",
   "execution_count": null,
   "id": "77ec0ec5-6385-44db-bf73-0a2b868afa4a",
   "metadata": {},
   "outputs": [],
   "source": [
    "def split_data(train_data,valid_data):\n",
    "    "
   ]
  }
 ],
 "metadata": {
  "kernelspec": {
   "display_name": "Python 3 (ipykernel)",
   "language": "python",
   "name": "python3"
  },
  "language_info": {
   "codemirror_mode": {
    "name": "ipython",
    "version": 3
   },
   "file_extension": ".py",
   "mimetype": "text/x-python",
   "name": "python",
   "nbconvert_exporter": "python",
   "pygments_lexer": "ipython3",
   "version": "3.8.5"
  }
 },
 "nbformat": 4,
 "nbformat_minor": 5
}
